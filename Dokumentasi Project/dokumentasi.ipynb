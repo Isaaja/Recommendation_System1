{
 "cells": [
  {
   "cell_type": "markdown",
   "metadata": {},
   "source": [
    "# Dokumentasi Project STKI"
   ]
  },
  {
   "cell_type": "markdown",
   "metadata": {},
   "source": [
    "### 1. Judul / Topik Project dan Identitas Lengkap"
   ]
  },
  {
   "cell_type": "code",
   "execution_count": null,
   "metadata": {
    "vscode": {
     "languageId": "plaintext"
    }
   },
   "outputs": [],
   "source": [
    "Judul/Topik: Sistem Pencari untuk Memberikan Rekomendasi Anime\n",
    "Nama: Isa Iant Maulana\n",
    "NIM: A11.2022.14416\n",
    "Tugas: STKI"
   ]
  },
  {
   "cell_type": "markdown",
   "metadata": {},
   "source": [
    "## Ringkasan dan Permasalahan Project"
   ]
  },
  {
   "cell_type": "markdown",
   "metadata": {},
   "source": [
    "**Ringkasan:**\n",
    "\n",
    "Sistem ini bertujuan untuk merekomendasikan anime kepada pengguna berdasarkan preferensi mereka. Sistem menggunakan dua pendekatan utama:\n",
    "\n",
    "1. Collaborative Filtering: Berdasarkan kesamaan preferensi pengguna lain.\n",
    "\n",
    "2. Content-Based Filtering: Berdasarkan kesamaan genre dan fitur dari anime itu sendiri.\n",
    "\n",
    "**Permasalahan:**\n",
    "\n",
    "Pengguna sering kesulitan menemukan anime baru yang sesuai dengan preferensi mereka. Data dari rating dan genre anime perlu diolah untuk menghasilkan rekomendasi yang relevan.\n",
    "\n",
    "**Tujuan yang Akan Dicapai:**\n",
    "\n",
    "1. Mengembangkan sistem rekomendasi yang dapat memberikan rekomendasi anime personal.\n",
    "\n",
    "2. Meningkatkan pengalaman pengguna dalam menemukan anime baru.\n",
    "\n",
    "**Model/Alur Penyelesaian:**\n",
    "\n",
    "*Bagan Alur:*\n",
    "\n",
    "1. Import Dataset\n",
    "\n",
    "2. Preprocessing\n",
    "\n",
    "    a. Menghapus nilai kosong dan data duplikat\n",
    "\n",
    "    b.Pembuatan pivot table\n",
    "\n",
    "3. Model Development\n",
    "\n",
    "    a. Collaborative Filtering: KNN\n",
    "\n",
    "    b. Content-Based Filtering: TF-IDF dan Sigmoid Kernel\n",
    "\n",
    "4. Evaluasi dan Penyajian Rekomendasi\n",
    "\n",
    "Input Data -> Preprocessing -> Feature Extraction -> Model Training -> Recommendation\n",
    "\n"
   ]
  },
  {
   "cell_type": "markdown",
   "metadata": {},
   "source": []
  }
 ],
 "metadata": {
  "language_info": {
   "name": "python"
  }
 },
 "nbformat": 4,
 "nbformat_minor": 2
}
